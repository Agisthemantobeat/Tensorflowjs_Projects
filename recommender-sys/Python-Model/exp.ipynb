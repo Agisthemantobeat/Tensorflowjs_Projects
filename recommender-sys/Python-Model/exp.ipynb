{
 "cells": [
  {
   "cell_type": "code",
   "execution_count": 1,
   "metadata": {},
   "outputs": [],
   "source": [
    "import numpy as np\n",
    "import pandas as pd\n",
    "import matplotlib.pyplot as plt\n",
    "import os\n",
    "import warnings\n",
    "\n",
    "warnings.filterwarnings('ignore')\n",
    "%matplotlib inline\n",
    "\n",
    "import tensorflow.keras as tf"
   ]
  },
  {
   "cell_type": "code",
   "execution_count": 2,
   "metadata": {},
   "outputs": [],
   "source": [
    "ratings_df = pd.read_csv(\"book-data/ratings.csv\")\n",
    "books_df = pd.read_csv(\"book-data/books.csv\")"
   ]
  },
  {
   "cell_type": "code",
   "execution_count": 3,
   "metadata": {},
   "outputs": [
    {
     "output_type": "execute_result",
     "data": {
      "text/plain": "   book_id  user_id  rating\n0        1      314       5\n1        1      439       3\n2        1      588       5\n3        1     1169       4\n4        1     1185       4",
      "text/html": "<div>\n<style scoped>\n    .dataframe tbody tr th:only-of-type {\n        vertical-align: middle;\n    }\n\n    .dataframe tbody tr th {\n        vertical-align: top;\n    }\n\n    .dataframe thead th {\n        text-align: right;\n    }\n</style>\n<table border=\"1\" class=\"dataframe\">\n  <thead>\n    <tr style=\"text-align: right;\">\n      <th></th>\n      <th>book_id</th>\n      <th>user_id</th>\n      <th>rating</th>\n    </tr>\n  </thead>\n  <tbody>\n    <tr>\n      <th>0</th>\n      <td>1</td>\n      <td>314</td>\n      <td>5</td>\n    </tr>\n    <tr>\n      <th>1</th>\n      <td>1</td>\n      <td>439</td>\n      <td>3</td>\n    </tr>\n    <tr>\n      <th>2</th>\n      <td>1</td>\n      <td>588</td>\n      <td>5</td>\n    </tr>\n    <tr>\n      <th>3</th>\n      <td>1</td>\n      <td>1169</td>\n      <td>4</td>\n    </tr>\n    <tr>\n      <th>4</th>\n      <td>1</td>\n      <td>1185</td>\n      <td>4</td>\n    </tr>\n  </tbody>\n</table>\n</div>"
     },
     "metadata": {},
     "execution_count": 3
    }
   ],
   "source": [
    "ratings_df.head()"
   ]
  },
  {
   "cell_type": "code",
   "execution_count": 4,
   "metadata": {},
   "outputs": [
    {
     "output_type": "execute_result",
     "data": {
      "text/plain": "   id  book_id  best_book_id  work_id  books_count       isbn        isbn13  \\\n0   1  2767052       2767052  2792775          272  439023483  9.780439e+12   \n1   2        3             3  4640799          491  439554934  9.780440e+12   \n2   3    41865         41865  3212258          226  316015849  9.780316e+12   \n3   4     2657          2657  3275794          487   61120081  9.780061e+12   \n4   5     4671          4671   245494         1356  743273567  9.780743e+12   \n\n                       authors  original_publication_year  \\\n0              Suzanne Collins                     2008.0   \n1  J.K. Rowling, Mary GrandPré                     1997.0   \n2              Stephenie Meyer                     2005.0   \n3                   Harper Lee                     1960.0   \n4          F. Scott Fitzgerald                     1925.0   \n\n                             original_title  ... ratings_count  \\\n0                          The Hunger Games  ...       4780653   \n1  Harry Potter and the Philosopher's Stone  ...       4602479   \n2                                  Twilight  ...       3866839   \n3                     To Kill a Mockingbird  ...       3198671   \n4                          The Great Gatsby  ...       2683664   \n\n  work_ratings_count  work_text_reviews_count  ratings_1  ratings_2  \\\n0            4942365                   155254      66715     127936   \n1            4800065                    75867      75504     101676   \n2            3916824                    95009     456191     436802   \n3            3340896                    72586      60427     117415   \n4            2773745                    51992      86236     197621   \n\n   ratings_3  ratings_4  ratings_5  \\\n0     560092    1481305    2706317   \n1     455024    1156318    3011543   \n2     793319     875073    1355439   \n3     446835    1001952    1714267   \n4     606158     936012     947718   \n\n                                           image_url  \\\n0  https://images.gr-assets.com/books/1447303603m...   \n1  https://images.gr-assets.com/books/1474154022m...   \n2  https://images.gr-assets.com/books/1361039443m...   \n3  https://images.gr-assets.com/books/1361975680m...   \n4  https://images.gr-assets.com/books/1490528560m...   \n\n                                     small_image_url  \n0  https://images.gr-assets.com/books/1447303603s...  \n1  https://images.gr-assets.com/books/1474154022s...  \n2  https://images.gr-assets.com/books/1361039443s...  \n3  https://images.gr-assets.com/books/1361975680s...  \n4  https://images.gr-assets.com/books/1490528560s...  \n\n[5 rows x 23 columns]",
      "text/html": "<div>\n<style scoped>\n    .dataframe tbody tr th:only-of-type {\n        vertical-align: middle;\n    }\n\n    .dataframe tbody tr th {\n        vertical-align: top;\n    }\n\n    .dataframe thead th {\n        text-align: right;\n    }\n</style>\n<table border=\"1\" class=\"dataframe\">\n  <thead>\n    <tr style=\"text-align: right;\">\n      <th></th>\n      <th>id</th>\n      <th>book_id</th>\n      <th>best_book_id</th>\n      <th>work_id</th>\n      <th>books_count</th>\n      <th>isbn</th>\n      <th>isbn13</th>\n      <th>authors</th>\n      <th>original_publication_year</th>\n      <th>original_title</th>\n      <th>...</th>\n      <th>ratings_count</th>\n      <th>work_ratings_count</th>\n      <th>work_text_reviews_count</th>\n      <th>ratings_1</th>\n      <th>ratings_2</th>\n      <th>ratings_3</th>\n      <th>ratings_4</th>\n      <th>ratings_5</th>\n      <th>image_url</th>\n      <th>small_image_url</th>\n    </tr>\n  </thead>\n  <tbody>\n    <tr>\n      <th>0</th>\n      <td>1</td>\n      <td>2767052</td>\n      <td>2767052</td>\n      <td>2792775</td>\n      <td>272</td>\n      <td>439023483</td>\n      <td>9.780439e+12</td>\n      <td>Suzanne Collins</td>\n      <td>2008.0</td>\n      <td>The Hunger Games</td>\n      <td>...</td>\n      <td>4780653</td>\n      <td>4942365</td>\n      <td>155254</td>\n      <td>66715</td>\n      <td>127936</td>\n      <td>560092</td>\n      <td>1481305</td>\n      <td>2706317</td>\n      <td>https://images.gr-assets.com/books/1447303603m...</td>\n      <td>https://images.gr-assets.com/books/1447303603s...</td>\n    </tr>\n    <tr>\n      <th>1</th>\n      <td>2</td>\n      <td>3</td>\n      <td>3</td>\n      <td>4640799</td>\n      <td>491</td>\n      <td>439554934</td>\n      <td>9.780440e+12</td>\n      <td>J.K. Rowling, Mary GrandPré</td>\n      <td>1997.0</td>\n      <td>Harry Potter and the Philosopher's Stone</td>\n      <td>...</td>\n      <td>4602479</td>\n      <td>4800065</td>\n      <td>75867</td>\n      <td>75504</td>\n      <td>101676</td>\n      <td>455024</td>\n      <td>1156318</td>\n      <td>3011543</td>\n      <td>https://images.gr-assets.com/books/1474154022m...</td>\n      <td>https://images.gr-assets.com/books/1474154022s...</td>\n    </tr>\n    <tr>\n      <th>2</th>\n      <td>3</td>\n      <td>41865</td>\n      <td>41865</td>\n      <td>3212258</td>\n      <td>226</td>\n      <td>316015849</td>\n      <td>9.780316e+12</td>\n      <td>Stephenie Meyer</td>\n      <td>2005.0</td>\n      <td>Twilight</td>\n      <td>...</td>\n      <td>3866839</td>\n      <td>3916824</td>\n      <td>95009</td>\n      <td>456191</td>\n      <td>436802</td>\n      <td>793319</td>\n      <td>875073</td>\n      <td>1355439</td>\n      <td>https://images.gr-assets.com/books/1361039443m...</td>\n      <td>https://images.gr-assets.com/books/1361039443s...</td>\n    </tr>\n    <tr>\n      <th>3</th>\n      <td>4</td>\n      <td>2657</td>\n      <td>2657</td>\n      <td>3275794</td>\n      <td>487</td>\n      <td>61120081</td>\n      <td>9.780061e+12</td>\n      <td>Harper Lee</td>\n      <td>1960.0</td>\n      <td>To Kill a Mockingbird</td>\n      <td>...</td>\n      <td>3198671</td>\n      <td>3340896</td>\n      <td>72586</td>\n      <td>60427</td>\n      <td>117415</td>\n      <td>446835</td>\n      <td>1001952</td>\n      <td>1714267</td>\n      <td>https://images.gr-assets.com/books/1361975680m...</td>\n      <td>https://images.gr-assets.com/books/1361975680s...</td>\n    </tr>\n    <tr>\n      <th>4</th>\n      <td>5</td>\n      <td>4671</td>\n      <td>4671</td>\n      <td>245494</td>\n      <td>1356</td>\n      <td>743273567</td>\n      <td>9.780743e+12</td>\n      <td>F. Scott Fitzgerald</td>\n      <td>1925.0</td>\n      <td>The Great Gatsby</td>\n      <td>...</td>\n      <td>2683664</td>\n      <td>2773745</td>\n      <td>51992</td>\n      <td>86236</td>\n      <td>197621</td>\n      <td>606158</td>\n      <td>936012</td>\n      <td>947718</td>\n      <td>https://images.gr-assets.com/books/1490528560m...</td>\n      <td>https://images.gr-assets.com/books/1490528560s...</td>\n    </tr>\n  </tbody>\n</table>\n<p>5 rows × 23 columns</p>\n</div>"
     },
     "metadata": {},
     "execution_count": 4
    }
   ],
   "source": [
    "books_df.head()"
   ]
  },
  {
   "cell_type": "code",
   "execution_count": 5,
   "metadata": {},
   "outputs": [
    {
     "output_type": "execute_result",
     "data": {
      "text/plain": "(981756, 3)"
     },
     "metadata": {},
     "execution_count": 5
    }
   ],
   "source": [
    "ratings_df.shape"
   ]
  },
  {
   "cell_type": "code",
   "execution_count": 6,
   "metadata": {},
   "outputs": [
    {
     "output_type": "execute_result",
     "data": {
      "text/plain": "(10000, 23)"
     },
     "metadata": {},
     "execution_count": 6
    }
   ],
   "source": [
    "books_df.shape"
   ]
  },
  {
   "cell_type": "code",
   "execution_count": 7,
   "metadata": {},
   "outputs": [
    {
     "output_type": "execute_result",
     "data": {
      "text/plain": "53424"
     },
     "metadata": {},
     "execution_count": 7
    }
   ],
   "source": [
    "ratings_df.user_id.nunique()"
   ]
  },
  {
   "cell_type": "code",
   "execution_count": 8,
   "metadata": {},
   "outputs": [
    {
     "output_type": "execute_result",
     "data": {
      "text/plain": "10000"
     },
     "metadata": {},
     "execution_count": 8
    }
   ],
   "source": [
    "books_df.book_id.nunique()"
   ]
  },
  {
   "cell_type": "code",
   "execution_count": 9,
   "metadata": {},
   "outputs": [
    {
     "output_type": "execute_result",
     "data": {
      "text/plain": "book_id    0\nuser_id    0\nrating     0\ndtype: int64"
     },
     "metadata": {},
     "execution_count": 9
    }
   ],
   "source": [
    "ratings_df.isna().sum()"
   ]
  },
  {
   "cell_type": "code",
   "execution_count": 10,
   "metadata": {},
   "outputs": [
    {
     "output_type": "execute_result",
     "data": {
      "text/plain": "id                              0\nbook_id                         0\nbest_book_id                    0\nwork_id                         0\nbooks_count                     0\nisbn                          700\nisbn13                        585\nauthors                         0\noriginal_publication_year      21\noriginal_title                585\ntitle                           0\nlanguage_code                1084\naverage_rating                  0\nratings_count                   0\nwork_ratings_count              0\nwork_text_reviews_count         0\nratings_1                       0\nratings_2                       0\nratings_3                       0\nratings_4                       0\nratings_5                       0\nimage_url                       0\nsmall_image_url                 0\ndtype: int64"
     },
     "metadata": {},
     "execution_count": 10
    }
   ],
   "source": [
    "books_df.isna().sum()"
   ]
  },
  {
   "cell_type": "code",
   "execution_count": 11,
   "metadata": {
    "tags": []
   },
   "outputs": [
    {
     "output_type": "stream",
     "name": "stdout",
     "text": "Shape of train data: (785404, 3)\nShape of test data: (196352, 3)\n"
    }
   ],
   "source": [
    "from sklearn.model_selection import train_test_split\n",
    "\n",
    "Xtrain, Xtest = train_test_split(ratings_df, test_size=0.2, random_state=1)\n",
    "print(f\"Shape of train data: {Xtrain.shape}\")\n",
    "print(f\"Shape of test data: {Xtest.shape}\")"
   ]
  },
  {
   "cell_type": "markdown",
   "metadata": {},
   "source": [
    "## CREATE A NEURAL NETWORK"
   ]
  },
  {
   "cell_type": "code",
   "execution_count": 12,
   "metadata": {},
   "outputs": [],
   "source": [
    "nbook_id = ratings_df.book_id.nunique()\n",
    "nuser_id = ratings_df.user_id.nunique()\n",
    "\n",
    "\n",
    "#Book input network\n",
    "input_books = tf.layers.Input(shape=[1])\n",
    "embed_books = tf.layers.Embedding(nbook_id + 1,10)(input_books)\n",
    "books_out = tf.layers.Flatten()(embed_books)\n",
    "\n",
    "#user input network\n",
    "input_users = tf.layers.Input(shape=[1])\n",
    "embed_users = tf.layers.Embedding(nuser_id + 1,10)(input_users)\n",
    "users_out = tf.layers.Flatten()(embed_users)\n",
    "\n",
    "conc_layer = tf.layers.Concatenate()([books_out, users_out])\n",
    "x = tf.layers.Dense(512, activation='relu')(conc_layer)\n",
    "x = tf.layers.Dense(128, activation='relu')(x)\n",
    "x_out = x = tf.layers.Dense(1, activation='relu')(x)\n",
    "\n",
    "model = tf.Model([input_books, input_users], x_out)\n",
    "\n",
    "opt = tf.optimizers.RMSprop(learning_rate=0.01)\n",
    "model.compile(optimizer=opt, loss='mean_squared_error')"
   ]
  },
  {
   "cell_type": "code",
   "execution_count": 13,
   "metadata": {
    "tags": []
   },
   "outputs": [
    {
     "output_type": "stream",
     "name": "stdout",
     "text": "Model: \"model\"\n__________________________________________________________________________________________________\nLayer (type)                    Output Shape         Param #     Connected to                     \n==================================================================================================\ninput_1 (InputLayer)            [(None, 1)]          0                                            \n__________________________________________________________________________________________________\ninput_2 (InputLayer)            [(None, 1)]          0                                            \n__________________________________________________________________________________________________\nembedding (Embedding)           (None, 1, 10)        100010      input_1[0][0]                    \n__________________________________________________________________________________________________\nembedding_1 (Embedding)         (None, 1, 10)        534250      input_2[0][0]                    \n__________________________________________________________________________________________________\nflatten (Flatten)               (None, 10)           0           embedding[0][0]                  \n__________________________________________________________________________________________________\nflatten_1 (Flatten)             (None, 10)           0           embedding_1[0][0]                \n__________________________________________________________________________________________________\nconcatenate (Concatenate)       (None, 20)           0           flatten[0][0]                    \n                                                                 flatten_1[0][0]                  \n__________________________________________________________________________________________________\ndense (Dense)                   (None, 512)          10752       concatenate[0][0]                \n__________________________________________________________________________________________________\ndense_1 (Dense)                 (None, 128)          65664       dense[0][0]                      \n__________________________________________________________________________________________________\ndense_2 (Dense)                 (None, 1)            129         dense_1[0][0]                    \n==================================================================================================\nTotal params: 710,805\nTrainable params: 710,805\nNon-trainable params: 0\n__________________________________________________________________________________________________\n"
    }
   ],
   "source": [
    "model.summary()"
   ]
  },
  {
   "cell_type": "code",
   "execution_count": 15,
   "metadata": {
    "tags": []
   },
   "outputs": [
    {
     "output_type": "stream",
     "name": "stdout",
     "text": "WARNING:tensorflow:Falling back from v2 loop because of error: Failed to find data adapter that can handle input: (<class 'list'> containing values of types {\"<class 'pandas.core.series.Series'>\"}), <class 'NoneType'>\nTrain on 785404 samples\nEpoch 1/10\n785404/785404 [==============================] - 122s 155us/sample - loss: 0.6500\nEpoch 2/10\n785404/785404 [==============================] - 122s 155us/sample - loss: 0.6359\nEpoch 3/10\n785404/785404 [==============================] - 123s 156us/sample - loss: 0.6229\nEpoch 4/10\n785404/785404 [==============================] - 128s 163us/sample - loss: 0.6101\nEpoch 5/10\n785404/785404 [==============================] - 132s 168us/sample - loss: 0.5995\nEpoch 6/10\n785404/785404 [==============================] - 131s 167us/sample - loss: 0.5885\nEpoch 7/10\n785404/785404 [==============================] - 132s 168us/sample - loss: 0.5793\nEpoch 8/10\n785404/785404 [==============================] - 134s 171us/sample - loss: 0.5704\nEpoch 9/10\n785404/785404 [==============================] - 134s 171us/sample - loss: 0.5622\nEpoch 10/10\n785404/785404 [==============================] - 131s 167us/sample - loss: 0.5551\n"
    }
   ],
   "source": [
    "hist = model.fit([Xtrain.book_id, Xtrain.user_id], Xtrain.rating,batch_size=64, epochs=10, verbose=1)"
   ]
  },
  {
   "cell_type": "code",
   "execution_count": 16,
   "metadata": {
    "tags": []
   },
   "outputs": [
    {
     "output_type": "stream",
     "name": "stdout",
     "text": "WARNING:tensorflow:From /home/dsn/anaconda3/lib/python3.7/site-packages/tensorflow_core/python/ops/resource_variable_ops.py:1781: calling BaseResourceVariable.__init__ (from tensorflow.python.ops.resource_variable_ops) with constraint is deprecated and will be removed in a future version.\nInstructions for updating:\nIf using Keras pass *_constraint arguments to layers.\nINFO:tensorflow:Assets written to: model/assets\n"
    }
   ],
   "source": [
    "from tensorflow.keras.models import load_model\n",
    "model.save('model')"
   ]
  },
  {
   "cell_type": "code",
   "execution_count": 28,
   "metadata": {},
   "outputs": [
    {
     "name": "stdout",
     "output_type": "stream",
     "text": [
      "Failed to import pydot. You must install pydot and graphviz for `pydotprint` to work.\n"
     ]
    }
   ],
   "source": [
    "# tf.utils.plot_model(model)"
   ]
  },
  {
   "cell_type": "markdown",
   "metadata": {},
   "source": [
    "## EXTRACT EMBEDDING LAYERS AND MAPPING FOR VISUALIZATION IN TENSORFLOW EMBEDDING PROJECTOR"
   ]
  },
  {
   "cell_type": "code",
   "execution_count": 29,
   "metadata": {},
   "outputs": [],
   "source": [
    "# Extract embeddings\n",
    "book_em = model.get_layer('Embed-Books')\n",
    "book_em_weights = book_em.get_weights()[0]"
   ]
  },
  {
   "cell_type": "code",
   "execution_count": 30,
   "metadata": {},
   "outputs": [
    {
     "data": {
      "text/plain": [
       "(10001, 5)"
      ]
     },
     "execution_count": 30,
     "metadata": {},
     "output_type": "execute_result"
    }
   ],
   "source": [
    "book_em_weights.shape"
   ]
  },
  {
   "cell_type": "code",
   "execution_count": 43,
   "metadata": {},
   "outputs": [
    {
     "data": {
      "text/html": [
       "<div>\n",
       "<style scoped>\n",
       "    .dataframe tbody tr th:only-of-type {\n",
       "        vertical-align: middle;\n",
       "    }\n",
       "\n",
       "    .dataframe tbody tr th {\n",
       "        vertical-align: top;\n",
       "    }\n",
       "\n",
       "    .dataframe thead th {\n",
       "        text-align: right;\n",
       "    }\n",
       "</style>\n",
       "<table border=\"1\" class=\"dataframe\">\n",
       "  <thead>\n",
       "    <tr style=\"text-align: right;\">\n",
       "      <th></th>\n",
       "      <th>id</th>\n",
       "      <th>best_book_id</th>\n",
       "      <th>work_id</th>\n",
       "      <th>books_count</th>\n",
       "      <th>isbn</th>\n",
       "      <th>isbn13</th>\n",
       "      <th>authors</th>\n",
       "      <th>original_publication_year</th>\n",
       "      <th>original_title</th>\n",
       "      <th>title</th>\n",
       "      <th>language_code</th>\n",
       "      <th>average_rating</th>\n",
       "      <th>ratings_count</th>\n",
       "      <th>work_ratings_count</th>\n",
       "      <th>work_text_reviews_count</th>\n",
       "      <th>ratings_1</th>\n",
       "      <th>ratings_2</th>\n",
       "      <th>ratings_3</th>\n",
       "      <th>ratings_4</th>\n",
       "      <th>ratings_5</th>\n",
       "      <th>image_url</th>\n",
       "      <th>small_image_url</th>\n",
       "    </tr>\n",
       "    <tr>\n",
       "      <th>book_id</th>\n",
       "      <th></th>\n",
       "      <th></th>\n",
       "      <th></th>\n",
       "      <th></th>\n",
       "      <th></th>\n",
       "      <th></th>\n",
       "      <th></th>\n",
       "      <th></th>\n",
       "      <th></th>\n",
       "      <th></th>\n",
       "      <th></th>\n",
       "      <th></th>\n",
       "      <th></th>\n",
       "      <th></th>\n",
       "      <th></th>\n",
       "      <th></th>\n",
       "      <th></th>\n",
       "      <th></th>\n",
       "      <th></th>\n",
       "      <th></th>\n",
       "      <th></th>\n",
       "      <th></th>\n",
       "    </tr>\n",
       "  </thead>\n",
       "  <tbody>\n",
       "    <tr>\n",
       "      <th>2767052</th>\n",
       "      <td>1</td>\n",
       "      <td>2767052</td>\n",
       "      <td>2792775</td>\n",
       "      <td>272</td>\n",
       "      <td>439023483</td>\n",
       "      <td>9.780439e+12</td>\n",
       "      <td>Suzanne Collins</td>\n",
       "      <td>2008.0</td>\n",
       "      <td>The Hunger Games</td>\n",
       "      <td>The Hunger Games (The Hunger Games, #1)</td>\n",
       "      <td>eng</td>\n",
       "      <td>4.34</td>\n",
       "      <td>4780653</td>\n",
       "      <td>4942365</td>\n",
       "      <td>155254</td>\n",
       "      <td>66715</td>\n",
       "      <td>127936</td>\n",
       "      <td>560092</td>\n",
       "      <td>1481305</td>\n",
       "      <td>2706317</td>\n",
       "      <td>https://images.gr-assets.com/books/1447303603m...</td>\n",
       "      <td>https://images.gr-assets.com/books/1447303603s...</td>\n",
       "    </tr>\n",
       "    <tr>\n",
       "      <th>3</th>\n",
       "      <td>2</td>\n",
       "      <td>3</td>\n",
       "      <td>4640799</td>\n",
       "      <td>491</td>\n",
       "      <td>439554934</td>\n",
       "      <td>9.780440e+12</td>\n",
       "      <td>J.K. Rowling, Mary GrandPré</td>\n",
       "      <td>1997.0</td>\n",
       "      <td>Harry Potter and the Philosopher's Stone</td>\n",
       "      <td>Harry Potter and the Sorcerer's Stone (Harry P...</td>\n",
       "      <td>eng</td>\n",
       "      <td>4.44</td>\n",
       "      <td>4602479</td>\n",
       "      <td>4800065</td>\n",
       "      <td>75867</td>\n",
       "      <td>75504</td>\n",
       "      <td>101676</td>\n",
       "      <td>455024</td>\n",
       "      <td>1156318</td>\n",
       "      <td>3011543</td>\n",
       "      <td>https://images.gr-assets.com/books/1474154022m...</td>\n",
       "      <td>https://images.gr-assets.com/books/1474154022s...</td>\n",
       "    </tr>\n",
       "  </tbody>\n",
       "</table>\n",
       "</div>"
      ],
      "text/plain": [
       "         id  ...                                    small_image_url\n",
       "book_id      ...                                                   \n",
       "2767052   1  ...  https://images.gr-assets.com/books/1447303603s...\n",
       "3         2  ...  https://images.gr-assets.com/books/1474154022s...\n",
       "\n",
       "[2 rows x 22 columns]"
      ]
     },
     "execution_count": 43,
     "metadata": {},
     "output_type": "execute_result"
    }
   ],
   "source": [
    "books_df_copy = books_df.copy()\n",
    "books_df_copy = books_df_copy.set_index(\"book_id\")\n",
    "books_df_copy.head(2)"
   ]
  },
  {
   "cell_type": "code",
   "execution_count": 58,
   "metadata": {},
   "outputs": [],
   "source": [
    "b_id =list(ratings_df.book_id.unique())\n",
    "b_id.remove(10000)\n",
    "dict_map = {}\n",
    "for i in b_id:\n",
    "    dict_map[i] = books_df_copy.iloc[i]['title']"
   ]
  },
  {
   "cell_type": "code",
   "execution_count": 59,
   "metadata": {},
   "outputs": [],
   "source": [
    "out_v = open('vecs.tsv', 'w')\n",
    "out_m = open('meta.tsv', 'w')\n",
    "\n",
    "for i in b_id:\n",
    "    book = dict_map[i]\n",
    "    embeddings = book_em_weights[i]\n",
    "    out_m.write(book + \"\\n\")\n",
    "    out_v.write('\\t'.join([str(x) for x in embeddings]) + \"\\n\")\n",
    "    \n",
    "out_v.close()\n",
    "out_m.close()"
   ]
  },
  {
   "cell_type": "code",
   "execution_count": 113,
   "metadata": {},
   "outputs": [
    {
     "data": {
      "text/plain": [
       "1"
      ]
     },
     "execution_count": 113,
     "metadata": {},
     "output_type": "execute_result"
    }
   ],
   "source": [
    "ratings_df.user_id.unique().min()"
   ]
  },
  {
   "cell_type": "markdown",
   "metadata": {},
   "source": [
    "## MAKING PREDICTIONS"
   ]
  },
  {
   "cell_type": "code",
   "execution_count": 119,
   "metadata": {},
   "outputs": [
    {
     "data": {
      "text/plain": [
       "array([100, 100, 100, 100, 100])"
      ]
     },
     "execution_count": 119,
     "metadata": {},
     "output_type": "execute_result"
    }
   ],
   "source": [
    "book_arr = np.array(b_id)\n",
    "user = np.array([100 for i in range(len(b_id))])\n",
    "user[:5]"
   ]
  },
  {
   "cell_type": "code",
   "execution_count": 120,
   "metadata": {},
   "outputs": [],
   "source": [
    "pred = model.predict([book_arr, user])"
   ]
  },
  {
   "cell_type": "code",
   "execution_count": 121,
   "metadata": {},
   "outputs": [],
   "source": [
    "pred = pred.reshape(-1)"
   ]
  },
  {
   "cell_type": "code",
   "execution_count": 122,
   "metadata": {},
   "outputs": [
    {
     "data": {
      "text/plain": [
       "array([4482, 8945, 7946, 1787, 6919])"
      ]
     },
     "execution_count": 122,
     "metadata": {},
     "output_type": "execute_result"
    }
   ],
   "source": [
    "pred_ids = (-pred).argsort()[0:5]\n",
    "pred_ids"
   ]
  },
  {
   "cell_type": "code",
   "execution_count": 125,
   "metadata": {},
   "outputs": [
    {
     "data": {
      "text/html": [
       "<div>\n",
       "<style scoped>\n",
       "    .dataframe tbody tr th:only-of-type {\n",
       "        vertical-align: middle;\n",
       "    }\n",
       "\n",
       "    .dataframe tbody tr th {\n",
       "        vertical-align: top;\n",
       "    }\n",
       "\n",
       "    .dataframe thead th {\n",
       "        text-align: right;\n",
       "    }\n",
       "</style>\n",
       "<table border=\"1\" class=\"dataframe\">\n",
       "  <thead>\n",
       "    <tr style=\"text-align: right;\">\n",
       "      <th></th>\n",
       "      <th>id</th>\n",
       "      <th>book_id</th>\n",
       "      <th>best_book_id</th>\n",
       "      <th>work_id</th>\n",
       "      <th>books_count</th>\n",
       "      <th>isbn</th>\n",
       "      <th>isbn13</th>\n",
       "      <th>authors</th>\n",
       "      <th>original_publication_year</th>\n",
       "      <th>original_title</th>\n",
       "      <th>title</th>\n",
       "      <th>language_code</th>\n",
       "      <th>average_rating</th>\n",
       "      <th>ratings_count</th>\n",
       "      <th>work_ratings_count</th>\n",
       "      <th>work_text_reviews_count</th>\n",
       "      <th>ratings_1</th>\n",
       "      <th>ratings_2</th>\n",
       "      <th>ratings_3</th>\n",
       "      <th>ratings_4</th>\n",
       "      <th>ratings_5</th>\n",
       "      <th>image_url</th>\n",
       "      <th>small_image_url</th>\n",
       "    </tr>\n",
       "  </thead>\n",
       "  <tbody>\n",
       "    <tr>\n",
       "      <th>4482</th>\n",
       "      <td>4483</td>\n",
       "      <td>24814</td>\n",
       "      <td>24814</td>\n",
       "      <td>25601</td>\n",
       "      <td>21</td>\n",
       "      <td>836221362</td>\n",
       "      <td>9.780836e+12</td>\n",
       "      <td>Bill Watterson</td>\n",
       "      <td>1996.0</td>\n",
       "      <td>It's a Magical World: A Calvin and Hobbes Coll...</td>\n",
       "      <td>It's a Magical World: A Calvin and Hobbes Coll...</td>\n",
       "      <td>eng</td>\n",
       "      <td>4.75</td>\n",
       "      <td>22351</td>\n",
       "      <td>23429</td>\n",
       "      <td>264</td>\n",
       "      <td>36</td>\n",
       "      <td>57</td>\n",
       "      <td>850</td>\n",
       "      <td>3737</td>\n",
       "      <td>18749</td>\n",
       "      <td>https://images.gr-assets.com/books/1437420710m...</td>\n",
       "      <td>https://images.gr-assets.com/books/1437420710s...</td>\n",
       "    </tr>\n",
       "    <tr>\n",
       "      <th>8945</th>\n",
       "      <td>8946</td>\n",
       "      <td>46292</td>\n",
       "      <td>46292</td>\n",
       "      <td>45423</td>\n",
       "      <td>91</td>\n",
       "      <td>9646534783</td>\n",
       "      <td>9.789647e+12</td>\n",
       "      <td>Hafez</td>\n",
       "      <td>1380.0</td>\n",
       "      <td>دیوان‎‎ [Dīvān]</td>\n",
       "      <td>The Divan</td>\n",
       "      <td>eng</td>\n",
       "      <td>4.63</td>\n",
       "      <td>2773</td>\n",
       "      <td>6323</td>\n",
       "      <td>286</td>\n",
       "      <td>89</td>\n",
       "      <td>116</td>\n",
       "      <td>384</td>\n",
       "      <td>872</td>\n",
       "      <td>4862</td>\n",
       "      <td>https://images.gr-assets.com/books/1327770153m...</td>\n",
       "      <td>https://images.gr-assets.com/books/1327770153s...</td>\n",
       "    </tr>\n",
       "    <tr>\n",
       "      <th>7946</th>\n",
       "      <td>7947</td>\n",
       "      <td>5031805</td>\n",
       "      <td>5031805</td>\n",
       "      <td>40769318</td>\n",
       "      <td>96</td>\n",
       "      <td>1433502410</td>\n",
       "      <td>9.781434e+12</td>\n",
       "      <td>Anonymous, Lane T. Dennis, Wayne A. Grudem</td>\n",
       "      <td>2002.0</td>\n",
       "      <td>NaN</td>\n",
       "      <td>ESV Study Bible</td>\n",
       "      <td>eng</td>\n",
       "      <td>4.76</td>\n",
       "      <td>8953</td>\n",
       "      <td>10784</td>\n",
       "      <td>262</td>\n",
       "      <td>98</td>\n",
       "      <td>90</td>\n",
       "      <td>367</td>\n",
       "      <td>1152</td>\n",
       "      <td>9077</td>\n",
       "      <td>https://images.gr-assets.com/books/1410151002m...</td>\n",
       "      <td>https://images.gr-assets.com/books/1410151002s...</td>\n",
       "    </tr>\n",
       "    <tr>\n",
       "      <th>1787</th>\n",
       "      <td>1788</td>\n",
       "      <td>24813</td>\n",
       "      <td>24813</td>\n",
       "      <td>692719</td>\n",
       "      <td>17</td>\n",
       "      <td>836204387</td>\n",
       "      <td>9.780836e+12</td>\n",
       "      <td>Bill Watterson</td>\n",
       "      <td>1995.0</td>\n",
       "      <td>The Calvin and Hobbes Tenth Anniversary Book</td>\n",
       "      <td>The Calvin and Hobbes Tenth Anniversary Book</td>\n",
       "      <td>eng</td>\n",
       "      <td>4.63</td>\n",
       "      <td>48280</td>\n",
       "      <td>48829</td>\n",
       "      <td>346</td>\n",
       "      <td>346</td>\n",
       "      <td>608</td>\n",
       "      <td>3077</td>\n",
       "      <td>8752</td>\n",
       "      <td>36046</td>\n",
       "      <td>https://s.gr-assets.com/assets/nophoto/book/11...</td>\n",
       "      <td>https://s.gr-assets.com/assets/nophoto/book/50...</td>\n",
       "    </tr>\n",
       "    <tr>\n",
       "      <th>6919</th>\n",
       "      <td>6920</td>\n",
       "      <td>24815</td>\n",
       "      <td>24815</td>\n",
       "      <td>25602</td>\n",
       "      <td>19</td>\n",
       "      <td>751500283</td>\n",
       "      <td>9.780752e+12</td>\n",
       "      <td>Bill Watterson</td>\n",
       "      <td>1992.0</td>\n",
       "      <td>The Indispensable Calvin and Hobbes: A Calvin ...</td>\n",
       "      <td>The Indispensable Calvin and Hobbes</td>\n",
       "      <td>eng</td>\n",
       "      <td>4.73</td>\n",
       "      <td>14597</td>\n",
       "      <td>16911</td>\n",
       "      <td>325</td>\n",
       "      <td>19</td>\n",
       "      <td>62</td>\n",
       "      <td>666</td>\n",
       "      <td>2969</td>\n",
       "      <td>13195</td>\n",
       "      <td>https://s.gr-assets.com/assets/nophoto/book/11...</td>\n",
       "      <td>https://s.gr-assets.com/assets/nophoto/book/50...</td>\n",
       "    </tr>\n",
       "  </tbody>\n",
       "</table>\n",
       "</div>"
      ],
      "text/plain": [
       "        id  ...                                    small_image_url\n",
       "4482  4483  ...  https://images.gr-assets.com/books/1437420710s...\n",
       "8945  8946  ...  https://images.gr-assets.com/books/1327770153s...\n",
       "7946  7947  ...  https://images.gr-assets.com/books/1410151002s...\n",
       "1787  1788  ...  https://s.gr-assets.com/assets/nophoto/book/50...\n",
       "6919  6920  ...  https://s.gr-assets.com/assets/nophoto/book/50...\n",
       "\n",
       "[5 rows x 23 columns]"
      ]
     },
     "execution_count": 125,
     "metadata": {},
     "output_type": "execute_result"
    }
   ],
   "source": [
    "books_df.iloc[pred_ids]"
   ]
  },
  {
   "cell_type": "markdown",
   "metadata": {},
   "source": [
    "### Prepare Data for use on application"
   ]
  },
  {
   "cell_type": "code",
   "execution_count": 127,
   "metadata": {},
   "outputs": [],
   "source": [
    "web_book_data = books_df[[\"book_id\", \"title\", \"image_url\", \"authors\"]]"
   ]
  },
  {
   "cell_type": "code",
   "execution_count": 20,
   "metadata": {},
   "outputs": [],
   "source": [
    "web_book_data = pd.read_csv(\"web_book_data.csv\")"
   ]
  },
  {
   "cell_type": "code",
   "execution_count": 21,
   "metadata": {},
   "outputs": [],
   "source": [
    "web_book_data = web_book_data.sort_values('book_id')"
   ]
  },
  {
   "cell_type": "code",
   "execution_count": 22,
   "metadata": {},
   "outputs": [
    {
     "data": {
      "text/html": [
       "<div>\n",
       "<style scoped>\n",
       "    .dataframe tbody tr th:only-of-type {\n",
       "        vertical-align: middle;\n",
       "    }\n",
       "\n",
       "    .dataframe tbody tr th {\n",
       "        vertical-align: top;\n",
       "    }\n",
       "\n",
       "    .dataframe thead th {\n",
       "        text-align: right;\n",
       "    }\n",
       "</style>\n",
       "<table border=\"1\" class=\"dataframe\">\n",
       "  <thead>\n",
       "    <tr style=\"text-align: right;\">\n",
       "      <th></th>\n",
       "      <th>book_id</th>\n",
       "      <th>title</th>\n",
       "      <th>image_url</th>\n",
       "      <th>authors</th>\n",
       "    </tr>\n",
       "  </thead>\n",
       "  <tbody>\n",
       "    <tr>\n",
       "      <th>26</th>\n",
       "      <td>1</td>\n",
       "      <td>Harry Potter and the Half-Blood Prince (Harry ...</td>\n",
       "      <td>https://images.gr-assets.com/books/1361039191m...</td>\n",
       "      <td>J.K. Rowling, Mary GrandPré</td>\n",
       "    </tr>\n",
       "    <tr>\n",
       "      <th>20</th>\n",
       "      <td>2</td>\n",
       "      <td>Harry Potter and the Order of the Phoenix (Har...</td>\n",
       "      <td>https://images.gr-assets.com/books/1387141547m...</td>\n",
       "      <td>J.K. Rowling, Mary GrandPré</td>\n",
       "    </tr>\n",
       "    <tr>\n",
       "      <th>1</th>\n",
       "      <td>3</td>\n",
       "      <td>Harry Potter and the Sorcerer's Stone (Harry P...</td>\n",
       "      <td>https://images.gr-assets.com/books/1474154022m...</td>\n",
       "      <td>J.K. Rowling, Mary GrandPré</td>\n",
       "    </tr>\n",
       "    <tr>\n",
       "      <th>17</th>\n",
       "      <td>5</td>\n",
       "      <td>Harry Potter and the Prisoner of Azkaban (Harr...</td>\n",
       "      <td>https://images.gr-assets.com/books/1499277281m...</td>\n",
       "      <td>J.K. Rowling, Mary GrandPré, Rufus Beck</td>\n",
       "    </tr>\n",
       "    <tr>\n",
       "      <th>23</th>\n",
       "      <td>6</td>\n",
       "      <td>Harry Potter and the Goblet of Fire (Harry Pot...</td>\n",
       "      <td>https://images.gr-assets.com/books/1361482611m...</td>\n",
       "      <td>J.K. Rowling, Mary GrandPré</td>\n",
       "    </tr>\n",
       "  </tbody>\n",
       "</table>\n",
       "</div>"
      ],
      "text/plain": [
       "    book_id                                              title  \\\n",
       "26        1  Harry Potter and the Half-Blood Prince (Harry ...   \n",
       "20        2  Harry Potter and the Order of the Phoenix (Har...   \n",
       "1         3  Harry Potter and the Sorcerer's Stone (Harry P...   \n",
       "17        5  Harry Potter and the Prisoner of Azkaban (Harr...   \n",
       "23        6  Harry Potter and the Goblet of Fire (Harry Pot...   \n",
       "\n",
       "                                            image_url  \\\n",
       "26  https://images.gr-assets.com/books/1361039191m...   \n",
       "20  https://images.gr-assets.com/books/1387141547m...   \n",
       "1   https://images.gr-assets.com/books/1474154022m...   \n",
       "17  https://images.gr-assets.com/books/1499277281m...   \n",
       "23  https://images.gr-assets.com/books/1361482611m...   \n",
       "\n",
       "                                    authors  \n",
       "26              J.K. Rowling, Mary GrandPré  \n",
       "20              J.K. Rowling, Mary GrandPré  \n",
       "1               J.K. Rowling, Mary GrandPré  \n",
       "17  J.K. Rowling, Mary GrandPré, Rufus Beck  \n",
       "23              J.K. Rowling, Mary GrandPré  "
      ]
     },
     "execution_count": 22,
     "metadata": {},
     "output_type": "execute_result"
    }
   ],
   "source": [
    "web_book_data.head()"
   ]
  },
  {
   "cell_type": "code",
   "execution_count": 23,
   "metadata": {},
   "outputs": [],
   "source": [
    "web_book_data.to_json(r'web_book_data.json', orient='records')"
   ]
  },
  {
   "cell_type": "code",
   "execution_count": null,
   "metadata": {},
   "outputs": [],
   "source": []
  }
 ],
 "metadata": {
  "kernelspec": {
   "display_name": "Python 3",
   "language": "python",
   "name": "python3"
  },
  "language_info": {
   "codemirror_mode": {
    "name": "ipython",
    "version": 3
   },
   "file_extension": ".py",
   "mimetype": "text/x-python",
   "name": "python",
   "nbconvert_exporter": "python",
   "pygments_lexer": "ipython3",
   "version": "3.7.6-final"
  }
 },
 "nbformat": 4,
 "nbformat_minor": 4
}